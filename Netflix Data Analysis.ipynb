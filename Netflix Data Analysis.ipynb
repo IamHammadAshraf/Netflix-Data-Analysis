{
  "nbformat": 4,
  "nbformat_minor": 0,
  "metadata": {
    "colab": {
      "provenance": []
    },
    "kernelspec": {
      "name": "python3",
      "display_name": "Python 3"
    },
    "language_info": {
      "name": "python"
    }
  },
  "cells": [
    {
      "cell_type": "code",
      "source": [
        "# ======================\n",
        "# 1. SETUP & DATA LOADING\n",
        "# ======================\n",
        "!pip install pandas seaborn matplotlib plotly wordcloud\n",
        "import pandas as pd\n",
        "import numpy as np\n",
        "import seaborn as sns\n",
        "import matplotlib.pyplot as plt\n",
        "from wordcloud import WordCloud\n",
        "from collections import Counter"
      ],
      "metadata": {
        "colab": {
          "base_uri": "https://localhost:8080/"
        },
        "id": "0RSQw6QOtVzK",
        "outputId": "2c2eacb0-0ba8-48e9-8704-cc95cbcc9842"
      },
      "execution_count": 1,
      "outputs": [
        {
          "output_type": "stream",
          "name": "stdout",
          "text": [
            "Requirement already satisfied: pandas in /usr/local/lib/python3.11/dist-packages (2.2.2)\n",
            "Requirement already satisfied: seaborn in /usr/local/lib/python3.11/dist-packages (0.13.2)\n",
            "Requirement already satisfied: matplotlib in /usr/local/lib/python3.11/dist-packages (3.10.0)\n",
            "Requirement already satisfied: plotly in /usr/local/lib/python3.11/dist-packages (5.24.1)\n",
            "Requirement already satisfied: wordcloud in /usr/local/lib/python3.11/dist-packages (1.9.4)\n",
            "Requirement already satisfied: numpy>=1.23.2 in /usr/local/lib/python3.11/dist-packages (from pandas) (1.26.4)\n",
            "Requirement already satisfied: python-dateutil>=2.8.2 in /usr/local/lib/python3.11/dist-packages (from pandas) (2.8.2)\n",
            "Requirement already satisfied: pytz>=2020.1 in /usr/local/lib/python3.11/dist-packages (from pandas) (2025.1)\n",
            "Requirement already satisfied: tzdata>=2022.7 in /usr/local/lib/python3.11/dist-packages (from pandas) (2025.1)\n",
            "Requirement already satisfied: contourpy>=1.0.1 in /usr/local/lib/python3.11/dist-packages (from matplotlib) (1.3.1)\n",
            "Requirement already satisfied: cycler>=0.10 in /usr/local/lib/python3.11/dist-packages (from matplotlib) (0.12.1)\n",
            "Requirement already satisfied: fonttools>=4.22.0 in /usr/local/lib/python3.11/dist-packages (from matplotlib) (4.56.0)\n",
            "Requirement already satisfied: kiwisolver>=1.3.1 in /usr/local/lib/python3.11/dist-packages (from matplotlib) (1.4.8)\n",
            "Requirement already satisfied: packaging>=20.0 in /usr/local/lib/python3.11/dist-packages (from matplotlib) (24.2)\n",
            "Requirement already satisfied: pillow>=8 in /usr/local/lib/python3.11/dist-packages (from matplotlib) (11.1.0)\n",
            "Requirement already satisfied: pyparsing>=2.3.1 in /usr/local/lib/python3.11/dist-packages (from matplotlib) (3.2.1)\n",
            "Requirement already satisfied: tenacity>=6.2.0 in /usr/local/lib/python3.11/dist-packages (from plotly) (9.0.0)\n",
            "Requirement already satisfied: six>=1.5 in /usr/local/lib/python3.11/dist-packages (from python-dateutil>=2.8.2->pandas) (1.17.0)\n"
          ]
        }
      ]
    },
    {
      "cell_type": "code",
      "source": [
        "# Load dataset (Netflix Movies and TV Shows)\n",
        "url = \"https://raw.githubusercontent.com/krishnaik06/netflix-data-analysis/main/netflix_titles.csv\"\n",
        "df = pd.read_csv(url)"
      ],
      "metadata": {
        "id": "a5zeIbdTtVwd"
      },
      "execution_count": null,
      "outputs": []
    },
    {
      "cell_type": "code",
      "source": [
        "# ======================\n",
        "# 2. DATA CLEANING\n",
        "# ======================\n",
        "# Handle missing values\n",
        "df['country'] = df['country'].fillna('Unknown')\n",
        "df['cast'] = df['cast'].fillna('No Cast')\n",
        "df['director'] = df['director'].fillna('No Director')\n",
        "\n",
        "# Convert date_added to datetime\n",
        "df['date_added'] = pd.to_datetime(df['date_added'].str.strip(), errors='coerce')\n",
        "\n",
        "# Extract year added\n",
        "df['year_added'] = df['date_added'].dt.year\n"
      ],
      "metadata": {
        "id": "lCMgotg7tVuO"
      },
      "execution_count": null,
      "outputs": []
    },
    {
      "cell_type": "code",
      "source": [
        "# ======================\n",
        "# 3. CONTENT OVERVIEW\n",
        "# ======================\n",
        "plt.figure(figsize=(10,6))\n",
        "sns.countplot(x='type', data=df, palette=['#E50914', '#221F1F'])\n",
        "plt.title('Movies vs TV Shows')\n",
        "plt.show()\n"
      ],
      "metadata": {
        "id": "zRDUCjCWtVr8"
      },
      "execution_count": null,
      "outputs": []
    },
    {
      "cell_type": "code",
      "source": [
        "# ======================\n",
        "# 4. RELEASE TRENDS\n",
        "# ======================\n",
        "plt.figure(figsize=(14,6))\n",
        "df['release_year'].value_counts().sort_index().plot(kind='line', color='#E50914')\n",
        "plt.title('Content Release Over Time')\n",
        "plt.xlabel('Release Year')\n",
        "plt.ylabel('Count')\n",
        "plt.grid()\n",
        "plt.show()"
      ],
      "metadata": {
        "id": "xlYfLPbItVpe"
      },
      "execution_count": null,
      "outputs": []
    },
    {
      "cell_type": "code",
      "source": [
        "# ======================\n",
        "# 5. COUNTRY ANALYSIS\n",
        "# ======================\n",
        "# Top 10 countries\n",
        "country_counts = df['country'].str.split(', ').explode().value_counts().head(10)\n",
        "\n",
        "plt.figure(figsize=(12,6))\n",
        "sns.barplot(x=country_counts.values, y=country_counts.index, palette='Reds_r')\n",
        "plt.title('Top 10 Countries by Content Production')\n",
        "plt.show()"
      ],
      "metadata": {
        "id": "oJqX-YJitVnE"
      },
      "execution_count": null,
      "outputs": []
    },
    {
      "cell_type": "code",
      "source": [
        "# ======================\n",
        "# 6. GENRE ANALYSIS\n",
        "# ======================\n",
        "# Word cloud for genres\n",
        "genres = ' '.join(df['listed_in'].fillna(''))\n",
        "wordcloud = WordCloud(width=800, height=400, background_color='black').generate(genres)\n",
        "\n",
        "plt.figure(figsize=(12,8))\n",
        "plt.imshow(wordcloud)\n",
        "plt.axis('off')\n",
        "plt.title('Most Popular Genres on Netflix')\n",
        "plt.show()\n"
      ],
      "metadata": {
        "id": "uh2VGSs1titb"
      },
      "execution_count": null,
      "outputs": []
    },
    {
      "cell_type": "code",
      "source": [
        "# ======================\n",
        "# 7. DURATION ANALYSIS\n",
        "# ======================\n",
        "# Movies duration distribution\n",
        "movies = df[df['type'] == 'Movie']\n",
        "movies['duration'] = movies['duration'].str.extract('(\\d+)').astype(float)\n",
        "\n",
        "plt.figure(figsize=(12,6))\n",
        "sns.histplot(data=movies, x='duration', bins=30, kde=True, color='#E50914')\n",
        "plt.title('Distribution of Movie Durations (minutes)')\n",
        "plt.show()\n",
        "\n",
        "# TV Show seasons\n",
        "tv_shows = df[df['type'] == 'TV Show']\n",
        "tv_shows['seasons'] = tv_shows['duration'].str.extract('(\\d+)').astype(float)\n",
        "\n",
        "plt.figure(figsize=(12,6))\n",
        "sns.countplot(data=tv_shows, x='seasons', palette='Reds')\n",
        "plt.title('Number of TV Show Seasons')\n",
        "plt.show()"
      ],
      "metadata": {
        "id": "iCSYn6imtkT6"
      },
      "execution_count": null,
      "outputs": []
    },
    {
      "cell_type": "code",
      "source": [
        "# ======================\n",
        "# 8. ADDITION TRENDS\n",
        "# ======================\n",
        "# Content added by year\n",
        "plt.figure(figsize=(14,6))\n",
        "df['year_added'].value_counts().sort_index().plot(kind='bar', color='#E50914')\n",
        "plt.title('Content Added to Netflix by Year')\n",
        "plt.xlabel('Year')\n",
        "plt.ylabel('Count')\n",
        "plt.show()\n",
        "\n",
        "# Monthly addition pattern\n",
        "df['month_added'] = df['date_added'].dt.month\n",
        "monthly = df.groupby('month_added')['show_id'].count()\n",
        "\n",
        "plt.figure(figsize=(12,6))\n",
        "sns.lineplot(x=monthly.index, y=monthly.values, color='#E50914', marker='o')\n",
        "plt.title('Monthly Content Addition Pattern')\n",
        "plt.xticks(range(1,13), ['Jan','Feb','Mar','Apr','May','Jun','Jul','Aug','Sep','Oct','Nov','Dec'])\n",
        "plt.grid()\n",
        "plt.show()"
      ],
      "metadata": {
        "id": "7CNHAAhktmFJ"
      },
      "execution_count": null,
      "outputs": []
    },
    {
      "cell_type": "code",
      "source": [
        "# ======================\n",
        "# 9. RATING ANALYSIS\n",
        "# ======================\n",
        "plt.figure(figsize=(14,6))\n",
        "rating_order = df['rating'].value_counts().index\n",
        "sns.countplot(data=df, y='rating', order=rating_order, palette='Reds_r')\n",
        "plt.title('Content Ratings Distribution')\n",
        "plt.show()"
      ],
      "metadata": {
        "id": "FMwvvUP4toJr"
      },
      "execution_count": null,
      "outputs": []
    },
    {
      "cell_type": "code",
      "execution_count": null,
      "metadata": {
        "id": "nFoDMcf5pv-t"
      },
      "outputs": [],
      "source": [
        "# ======================\n",
        "# 10. CAST ANALYSIS\n",
        "# ======================\n",
        "# Top 20 actors\n",
        "all_cast = ' '.join(df['cast'].str.replace(', ', ',').str.split(',').dropna().explode())\n",
        "top_actors = pd.Series(all_cast.split()).value_counts().head(20)\n",
        "\n",
        "plt.figure(figsize=(12,8))\n",
        "sns.barplot(x=top_actors.values, y=top_actors.index, palette='Reds_r')\n",
        "plt.title('Top 20 Actors on Netflix')\n",
        "plt.show()"
      ]
    },
    {
      "cell_type": "code",
      "source": [],
      "metadata": {
        "id": "sjZ1aUNbp2fn"
      },
      "execution_count": null,
      "outputs": []
    }
  ]
}